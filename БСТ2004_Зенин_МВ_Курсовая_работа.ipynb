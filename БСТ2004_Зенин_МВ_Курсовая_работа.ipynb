{
  "nbformat": 4,
  "nbformat_minor": 0,
  "metadata": {
    "colab": {
      "name": "БСТ2004 Зенин МВ Курсовая работа.ipynb",
      "provenance": [],
      "collapsed_sections": []
    },
    "kernelspec": {
      "name": "python3",
      "display_name": "Python 3"
    },
    "language_info": {
      "name": "python"
    }
  },
  "cells": [
    {
      "cell_type": "code",
      "execution_count": 4,
      "metadata": {
        "id": "u4VmNUlxT_WP",
        "colab": {
          "base_uri": "https://localhost:8080/"
        },
        "outputId": "15522544-e2c1-4a11-9cb7-057340254a5c"
      },
      "outputs": [
        {
          "output_type": "stream",
          "name": "stdout",
          "text": [
            "4\n",
            "A\n",
            "B\n",
            "C\n",
            "D\n",
            "A-B 1:1\n",
            "A-C 2:2\n",
            "A-D 1:0\n",
            "B-C 1:0\n",
            "B-D 0:3\n",
            "C-D 0:3\n",
            "A\n",
            "D\n"
          ]
        }
      ],
      "source": [
        "## Задача 19А \"Чемпионат мира по футболу\" (1400)\n",
        "n = int(input())\n",
        "d = dict()\n",
        "for i in range(n):\n",
        "\td[input()] = [0, 0, 0]\n",
        "for i in range(n * (n - 1) // 2):\n",
        "\tt, s = input().split()\n",
        "\tt1, t2 = t.split('-')\n",
        "\ts1, s2 = [int(x) for x in s.split(':')]\n",
        "\ta = d[t1]\n",
        "\tb = d[t2]\n",
        "\ta[2] += s1\n",
        "\tb[2] += s2\n",
        "\ta[1] += s1 - s2\n",
        "\tb[1] += s2 - s1\n",
        "\tif s1 == s2:\n",
        "\t\ta[0] += 1\n",
        "\t\tb[0] += 1\n",
        "\telif s1 < s2:\n",
        "\t\tb[0] += 3\n",
        "\telse:\n",
        "\t\ta[0] += 3\n",
        "print('\\n'.join(sorted(b for a, b in sorted((b, a) for a, b in d.items())[n // 2: ])))"
      ]
    },
    {
      "cell_type": "code",
      "source": [
        "## Задача 466А \"Выгодный проезд\" (1200)\n",
        "num_rides, num_rides_ticket, price_one_ticket, price_mult_ticket = map(int, input().split())\n",
        "\n",
        "num_mult_tickets = num_rides // num_rides_ticket\n",
        "\n",
        "print(min(num_rides * price_one_ticket,\n",
        "num_mult_tickets * price_mult_ticket + (num_rides - num_mult_tickets * num_rides_ticket) * price_one_ticket,\n",
        "(num_mult_tickets + 1) * price_mult_ticket))"
      ],
      "metadata": {
        "id": "HWUebGmuUKhc",
        "colab": {
          "base_uri": "https://localhost:8080/"
        },
        "outputId": "a7ee0c42-c942-499d-a673-a9933918c726"
      },
      "execution_count": 12,
      "outputs": [
        {
          "output_type": "stream",
          "name": "stdout",
          "text": [
            "5 2 2 3\n",
            "8\n"
          ]
        }
      ]
    },
    {
      "cell_type": "code",
      "source": [
        "## Задача 230B \"Т-простые числа\" \n",
        "limit = 1000000\n",
        "def limiter():\n",
        "    prime_flag = [True] * limit\n",
        "    prime_flag[0] = prime_flag[1] = False\n",
        "    for i in range(2,limit):\n",
        "        if prime_flag[i] == True:\n",
        "            for j in range(i*i, limit, i):\n",
        "                prime_flag[j] = False\n",
        "    return prime_flag                    \n",
        " \n",
        "def check_if_a_number_is_t_prime(n):\n",
        "    if n == 4:\n",
        "        return True\n",
        "    if n < 4 or n%2==0:\n",
        "        return False\n",
        "    sqrt_n = n**0.5\n",
        "    if sqrt_n==int(sqrt_n):\n",
        "        if prime_flag[int(sqrt_n)] == True:\n",
        "            return True\n",
        "    return False\n",
        " \n",
        "prime_flag = limiter()\n",
        "total_numbers = int(input())\n",
        "input_array = list(map(int,input().split()))\n",
        "for i in input_array:\n",
        "    if check_if_a_number_is_t_prime(i)==True:\n",
        "        print(\"YES\")\n",
        "    else:\n",
        "        print(\"NO\")"
      ],
      "metadata": {
        "id": "jUiCzhQQUKrr",
        "colab": {
          "base_uri": "https://localhost:8080/"
        },
        "outputId": "a3ff473b-72a2-433b-e2c4-5e096b592d0b"
      },
      "execution_count": 8,
      "outputs": [
        {
          "output_type": "stream",
          "name": "stdout",
          "text": [
            "3\n",
            "4 5 6\n",
            "YES\n",
            "NO\n",
            "NO\n"
          ]
        }
      ]
    },
    {
      "cell_type": "code",
      "source": [
        "## Задача 158B \"Такси\" (1100)\n",
        "n=int(input())\n",
        "s=input().split()\n",
        "count=0\n",
        "f1=0 \n",
        "f2=0\n",
        "f3=0\n",
        "f4=0\n",
        "for i in range(n):\n",
        "  if s[i]=='1':\n",
        "    f1+=1\n",
        "  elif s[i]=='2':\n",
        "    f2+=1\n",
        "  elif s[i]=='3':\n",
        "    f3+=1\n",
        "  else: f4+=1\n",
        "count+=f4\n",
        "if f3<f1:\n",
        "  count=count+f3\n",
        "  f1=f1-f3\n",
        "  f3=0\n",
        "else:\n",
        "  count=count+f1\n",
        "  f3=f3-f1\n",
        "  f1=0\n",
        "if f3>0:\n",
        "  count+=f3\n",
        "  f3=0\n",
        "if f2>0:\n",
        "  count+=f2//2\n",
        "  f2=f2%2\n",
        "left=f1+f2*2\n",
        "if (left<=4) and (left>0):\n",
        "  count+=1\n",
        "elif(left%4!=0):\n",
        "  count+=left//4+1\n",
        "else:\n",
        "  count+=left//4\n",
        "print(count)\n"
      ],
      "metadata": {
        "colab": {
          "base_uri": "https://localhost:8080/"
        },
        "outputId": "5d8a2fa6-fddb-4d2f-9cc1-90fdcc2da0fe",
        "id": "ADcTvY4K1BM9"
      },
      "execution_count": null,
      "outputs": [
        {
          "output_type": "stream",
          "name": "stdout",
          "text": [
            "5\n",
            "1 2 4 3 3\n",
            "4\n"
          ]
        }
      ]
    },
    {
      "cell_type": "code",
      "source": [
        ""
      ],
      "metadata": {
        "id": "-yaa7yq9Ywaq"
      },
      "execution_count": null,
      "outputs": []
    }
  ]
}